{
 "cells": [
  {
   "cell_type": "markdown",
   "metadata": {},
   "source": [
    "# Broadcasting\n",
    "\n",
    "Broadcasting describes how NumPy performs operations between arrays with different sizes."
   ]
  },
  {
   "cell_type": "code",
   "execution_count": 1,
   "metadata": {},
   "outputs": [],
   "source": [
    "import numpy as np"
   ]
  },
  {
   "cell_type": "code",
   "execution_count": 2,
   "metadata": {},
   "outputs": [
    {
     "data": {
      "text/plain": [
       "array([[[ 0,  1,  2,  3,  4,  5,  6],\n",
       "        [ 7,  8,  9, 10, 11, 12, 13],\n",
       "        [14, 15, 16, 17, 18, 19, 20],\n",
       "        [21, 22, 23, 24, 25, 26, 27],\n",
       "        [28, 29, 30, 31, 32, 33, 34]],\n",
       "\n",
       "       [[35, 36, 37, 38, 39, 40, 41],\n",
       "        [42, 43, 44, 45, 46, 47, 48],\n",
       "        [49, 50, 51, 52, 53, 54, 55],\n",
       "        [56, 57, 58, 59, 60, 61, 62],\n",
       "        [63, 64, 65, 66, 67, 68, 69]]])"
      ]
     },
     "execution_count": 2,
     "metadata": {},
     "output_type": "execute_result"
    }
   ],
   "source": [
    "rows, columns, depth = 5, 7, 2\n",
    "\n",
    "my_3D_array = np.arange(depth * rows * columns)\n",
    "my_3D_array.shape = (depth, rows, columns)\n",
    "my_3D_array"
   ]
  },
  {
   "cell_type": "code",
   "execution_count": 3,
   "metadata": {},
   "outputs": [
    {
     "data": {
      "text/plain": [
       "(2, 5, 7)"
      ]
     },
     "execution_count": 3,
     "metadata": {},
     "output_type": "execute_result"
    }
   ],
   "source": [
    "# shape\n",
    "\n",
    "my_3D_array.shape"
   ]
  },
  {
   "cell_type": "code",
   "execution_count": 4,
   "metadata": {},
   "outputs": [
    {
     "data": {
      "text/plain": [
       "3"
      ]
     },
     "execution_count": 4,
     "metadata": {},
     "output_type": "execute_result"
    }
   ],
   "source": [
    "# number of dimensions\n",
    "\n",
    "my_3D_array.ndim"
   ]
  },
  {
   "cell_type": "code",
   "execution_count": 5,
   "metadata": {},
   "outputs": [
    {
     "data": {
      "text/plain": [
       "70"
      ]
     },
     "execution_count": 5,
     "metadata": {},
     "output_type": "execute_result"
    }
   ],
   "source": [
    "# number of elements within the array\n",
    "\n",
    "my_3D_array.size"
   ]
  },
  {
   "cell_type": "code",
   "execution_count": 6,
   "metadata": {},
   "outputs": [
    {
     "data": {
      "text/plain": [
       "dtype('int64')"
      ]
     },
     "execution_count": 6,
     "metadata": {},
     "output_type": "execute_result"
    }
   ],
   "source": [
    "# data type for each element\n",
    "\n",
    "my_3D_array.dtype"
   ]
  },
  {
   "cell_type": "code",
   "execution_count": 7,
   "metadata": {},
   "outputs": [
    {
     "data": {
      "text/plain": [
       "array([[[ -2,   3,   8,  13,  18,  23,  28],\n",
       "        [ 33,  38,  43,  48,  53,  58,  63],\n",
       "        [ 68,  73,  78,  83,  88,  93,  98],\n",
       "        [103, 108, 113, 118, 123, 128, 133],\n",
       "        [138, 143, 148, 153, 158, 163, 168]],\n",
       "\n",
       "       [[173, 178, 183, 188, 193, 198, 203],\n",
       "        [208, 213, 218, 223, 228, 233, 238],\n",
       "        [243, 248, 253, 258, 263, 268, 273],\n",
       "        [278, 283, 288, 293, 298, 303, 308],\n",
       "        [313, 318, 323, 328, 333, 338, 343]]])"
      ]
     },
     "execution_count": 7,
     "metadata": {},
     "output_type": "execute_result"
    }
   ],
   "source": [
    "# arrithmatics\n",
    "\n",
    "5 * my_3D_array - 2"
   ]
  },
  {
   "cell_type": "markdown",
   "metadata": {},
   "source": [
    "### Products of two matrices\n",
    "\n",
    "For matrice multipication, use <code>np.dot</code>."
   ]
  },
  {
   "cell_type": "code",
   "execution_count": 8,
   "metadata": {},
   "outputs": [],
   "source": [
    "# create two matrices\n",
    "\n",
    "left_mat = np.arange(0, 8).reshape(2, 4)\n",
    "right_mat = np.arange(0, 12).reshape(4, 3)"
   ]
  },
  {
   "cell_type": "code",
   "execution_count": 9,
   "metadata": {},
   "outputs": [
    {
     "data": {
      "text/plain": [
       "array([[ 42,  48,  54],\n",
       "       [114, 136, 158]])"
      ]
     },
     "execution_count": 9,
     "metadata": {},
     "output_type": "execute_result"
    }
   ],
   "source": [
    "np.dot(left_mat, right_mat)"
   ]
  },
  {
   "cell_type": "markdown",
   "metadata": {},
   "source": [
    "### Operations along axes"
   ]
  },
  {
   "cell_type": "code",
   "execution_count": 10,
   "metadata": {},
   "outputs": [
    {
     "data": {
      "text/plain": [
       "array([[[ 0,  1,  2,  3,  4,  5,  6],\n",
       "        [ 7,  8,  9, 10, 11, 12, 13],\n",
       "        [14, 15, 16, 17, 18, 19, 20],\n",
       "        [21, 22, 23, 24, 25, 26, 27],\n",
       "        [28, 29, 30, 31, 32, 33, 34]],\n",
       "\n",
       "       [[35, 36, 37, 38, 39, 40, 41],\n",
       "        [42, 43, 44, 45, 46, 47, 48],\n",
       "        [49, 50, 51, 52, 53, 54, 55],\n",
       "        [56, 57, 58, 59, 60, 61, 62],\n",
       "        [63, 64, 65, 66, 67, 68, 69]]])"
      ]
     },
     "execution_count": 10,
     "metadata": {},
     "output_type": "execute_result"
    }
   ],
   "source": [
    "my_3D_array"
   ]
  },
  {
   "cell_type": "code",
   "execution_count": 11,
   "metadata": {},
   "outputs": [
    {
     "data": {
      "text/plain": [
       "2415"
      ]
     },
     "execution_count": 11,
     "metadata": {},
     "output_type": "execute_result"
    }
   ],
   "source": [
    "my_3D_array.sum()"
   ]
  },
  {
   "cell_type": "code",
   "execution_count": 12,
   "metadata": {},
   "outputs": [
    {
     "data": {
      "text/plain": [
       "array([[ 35,  37,  39,  41,  43,  45,  47],\n",
       "       [ 49,  51,  53,  55,  57,  59,  61],\n",
       "       [ 63,  65,  67,  69,  71,  73,  75],\n",
       "       [ 77,  79,  81,  83,  85,  87,  89],\n",
       "       [ 91,  93,  95,  97,  99, 101, 103]])"
      ]
     },
     "execution_count": 12,
     "metadata": {},
     "output_type": "execute_result"
    }
   ],
   "source": [
    "\n",
    "my_3D_array.sum(axis = 0) # columns (first dimension)\n"
   ]
  },
  {
   "cell_type": "code",
   "execution_count": 13,
   "metadata": {},
   "outputs": [
    {
     "data": {
      "text/plain": [
       "array([[ 70,  75,  80,  85,  90,  95, 100],\n",
       "       [245, 250, 255, 260, 265, 270, 275]])"
      ]
     },
     "execution_count": 13,
     "metadata": {},
     "output_type": "execute_result"
    }
   ],
   "source": [
    "\n",
    "my_3D_array.sum(axis = 1) #  rows (second dimension)\n"
   ]
  },
  {
   "cell_type": "code",
   "execution_count": 14,
   "metadata": {},
   "outputs": [
    {
     "data": {
      "text/plain": [
       "array([[ 21,  70, 119, 168, 217],\n",
       "       [266, 315, 364, 413, 462]])"
      ]
     },
     "execution_count": 14,
     "metadata": {},
     "output_type": "execute_result"
    }
   ],
   "source": [
    "\n",
    "my_3D_array.sum(axis = 2)\n"
   ]
  },
  {
   "cell_type": "markdown",
   "metadata": {},
   "source": [
    "## Broadcasting Rules"
   ]
  },
  {
   "cell_type": "code",
   "execution_count": 15,
   "metadata": {},
   "outputs": [
    {
     "data": {
      "text/plain": [
       "array([[3, 3, 3, 3, 3],\n",
       "       [3, 3, 3, 3, 3],\n",
       "       [3, 3, 3, 3, 3],\n",
       "       [3, 3, 3, 3, 3],\n",
       "       [3, 3, 3, 3, 3],\n",
       "       [3, 3, 3, 3, 3],\n",
       "       [3, 3, 3, 3, 3]])"
      ]
     },
     "execution_count": 15,
     "metadata": {},
     "output_type": "execute_result"
    }
   ],
   "source": [
    "# create a 2 dimensional array\n",
    "\n",
    "rows, columns = 7, 5\n",
    "\n",
    "my_2D_array = np.ones(35, dtype = 'int_').reshape(rows, columns) * 3\n",
    "my_2D_array"
   ]
  }
 ],
 "metadata": {
  "kernelspec": {
   "display_name": "Python 3",
   "language": "python",
   "name": "python3"
  },
  "language_info": {
   "codemirror_mode": {
    "name": "ipython",
    "version": 3
   },
   "file_extension": ".py",
   "mimetype": "text/x-python",
   "name": "python",
   "nbconvert_exporter": "python",
   "pygments_lexer": "ipython3",
   "version": "3.7.4"
  }
 },
 "nbformat": 4,
 "nbformat_minor": 2
}
